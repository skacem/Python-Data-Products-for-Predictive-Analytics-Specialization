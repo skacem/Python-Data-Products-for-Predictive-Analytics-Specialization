{
 "cells": [
  {
   "cell_type": "markdown",
   "id": "66c8f04a-8f03-4789-93a4-ba6269a831ed",
   "metadata": {},
   "source": [
    "# Data Filtering and Cleaning\n",
    "\n",
    "## Data Filtering"
   ]
  },
  {
   "cell_type": "code",
   "execution_count": 9,
   "id": "a2b0e2d9-594b-414d-92fa-fb686d85faf7",
   "metadata": {},
   "outputs": [],
   "source": [
    "import gzip\n",
    "import csv\n",
    "import logging\n",
    "\n",
    "# Disable jedi autocompleter\n",
    "%config Completer.use_jedi = False"
   ]
  },
  {
   "cell_type": "code",
   "execution_count": 3,
   "id": "c9c0e916-ab4f-48d5-b576-04cc9c5d1744",
   "metadata": {},
   "outputs": [],
   "source": [
    "# Unzimp the datafile\n",
    "path = \"../datasets/amazon_reviews_us_Gift_Card_v1_00.tsv.gz\"\n",
    "f = gzip.open(path, 'rt')\n",
    "\n",
    "# Initiate a reader object\n",
    "reader = csv.reader(f, delimiter='\\t')\n",
    "\n",
    "# read one line at a time\n",
    "# First line = header\n",
    "header = next(reader)"
   ]
  },
  {
   "cell_type": "code",
   "execution_count": 4,
   "id": "1d00b82f-94df-49a4-a783-e65db9a9ca67",
   "metadata": {},
   "outputs": [],
   "source": [
    "dataset = []\n",
    "\n",
    "for line in reader:\n",
    "    d = dict(zip(header, line))\n",
    "    # convert string to int\n",
    "    for field in ['helpful_votes', 'star_rating', 'total_votes']:\n",
    "        d[field] = int(d[field])\n",
    "    # convert string to boolean\n",
    "    for field in ['verified_purchase', 'vine']:\n",
    "        if d[field] == \"Y\":\n",
    "            d[field] = True\n",
    "        else:\n",
    "            d[field] = False\n",
    "    dataset.append(d)"
   ]
  },
  {
   "cell_type": "code",
   "execution_count": 5,
   "id": "811850d2-226f-408d-8973-d55f469891be",
   "metadata": {},
   "outputs": [
    {
     "data": {
      "text/plain": [
       "148310"
      ]
     },
     "execution_count": 5,
     "metadata": {},
     "output_type": "execute_result"
    }
   ],
   "source": [
    "len(dataset)"
   ]
  },
  {
   "cell_type": "code",
   "execution_count": 6,
   "id": "19eaa65c-382a-40f8-9613-860d634addf4",
   "metadata": {},
   "outputs": [
    {
     "data": {
      "text/plain": [
       "{'marketplace': 'US',\n",
       " 'customer_id': '24371595',\n",
       " 'review_id': 'R27ZP1F1CD0C3Y',\n",
       " 'product_id': 'B004LLIL5A',\n",
       " 'product_parent': '346014806',\n",
       " 'product_title': 'Amazon eGift Card - Celebrate',\n",
       " 'product_category': 'Gift Card',\n",
       " 'star_rating': 5,\n",
       " 'helpful_votes': 0,\n",
       " 'total_votes': 0,\n",
       " 'vine': False,\n",
       " 'verified_purchase': True,\n",
       " 'review_headline': 'Five Stars',\n",
       " 'review_body': 'Great birthday gift for a young adult.',\n",
       " 'review_date': '2015-08-31'}"
      ]
     },
     "execution_count": 6,
     "metadata": {},
     "output_type": "execute_result"
    }
   ],
   "source": [
    "dataset[0]"
   ]
  },
  {
   "cell_type": "markdown",
   "id": "b4953a4c-6c37-4d55-adc1-51b24ff0c1f8",
   "metadata": {},
   "source": [
    "## Fintering by Date\n",
    "\n",
    "Let's filter reviews by data in order to remove very old reviews. We first need to convert htis to an integer"
   ]
  },
  {
   "cell_type": "code",
   "execution_count": 12,
   "id": "fe809ade-3805-4c6d-af87-96a2ba2e9edc",
   "metadata": {},
   "outputs": [
    {
     "name": "stderr",
     "output_type": "stream",
     "text": [
      "Traceback (most recent call last):\n",
      "  File \"<ipython-input-12-319bf42f2c40>\", line 4, in <module>\n",
      "    d['yearInt'] = int(d['review_date'][:4])\n",
      "KeyError: 'review_date'\n"
     ]
    }
   ],
   "source": [
    "import traceback\n",
    "for d in dataset:\n",
    "    try:\n",
    "        d['yearInt'] = int(d['review_date'][:4])\n",
    "    except Exception:\n",
    "        traceback.print_exc()"
   ]
  },
  {
   "cell_type": "markdown",
   "id": "7aded25c-a8c6-4100-a347-78a1a27e454c",
   "metadata": {},
   "source": [
    "It seems like some reviews don't contain a `review_date` field. So we'll first have to preprocess our dataset to extract only those entries containg a `review_date` field"
   ]
  },
  {
   "cell_type": "code",
   "execution_count": 13,
   "id": "b812fc94-3c4f-4429-895d-786f3e815a9e",
   "metadata": {},
   "outputs": [],
   "source": [
    "dataset = [d for d in dataset if 'review_date' in d]"
   ]
  },
  {
   "cell_type": "code",
   "execution_count": 14,
   "id": "d8f22d63-555f-48cd-bcfa-67157a8dc727",
   "metadata": {},
   "outputs": [
    {
     "data": {
      "text/plain": [
       "148309"
      ]
     },
     "execution_count": 14,
     "metadata": {},
     "output_type": "execute_result"
    }
   ],
   "source": [
    "len(dataset)"
   ]
  },
  {
   "cell_type": "markdown",
   "id": "0923301b-5407-4441-a663-347a35f52923",
   "metadata": {},
   "source": [
    "* It looks like it was just one review that didn't have a `review_date` field\n",
    "* Now we can try again"
   ]
  },
  {
   "cell_type": "code",
   "execution_count": 15,
   "id": "e528cc9f-7d20-4825-9134-9b0368d9aa3d",
   "metadata": {},
   "outputs": [],
   "source": [
    "for d in dataset:\n",
    "    d['yearInt'] = int(d['review_date'][:4])"
   ]
  },
  {
   "cell_type": "markdown",
   "id": "edb98eab-4894-4289-b45c-fb4660cb7d83",
   "metadata": {},
   "source": [
    "Finally let's filter out old review, that is those written before 2010"
   ]
  },
  {
   "cell_type": "code",
   "execution_count": 16,
   "id": "3c2fb92e-6879-4898-ac4a-c5f0d5b1b9a1",
   "metadata": {},
   "outputs": [
    {
     "data": {
      "text/plain": [
       "148095"
      ]
     },
     "execution_count": 16,
     "metadata": {},
     "output_type": "execute_result"
    }
   ],
   "source": [
    "dataset = [d for d in dataset if d['yearInt'] > 2009]\n",
    "len(dataset)"
   ]
  },
  {
   "cell_type": "markdown",
   "id": "1e1b5f37-0965-46ae-8176-c6267fd80051",
   "metadata": {},
   "source": [
    "Similarly, we might filter reviews based on their \"helpfulness\":  \n",
    "* Keep reviews that haven't received many votes yet,\n",
    "* Otherwise, delete any with less than 50% helpfulness"
   ]
  },
  {
   "cell_type": "code",
   "execution_count": 17,
   "id": "8d496276-0f70-4206-8010-20173e1b2d31",
   "metadata": {},
   "outputs": [],
   "source": [
    "dataset = [d for d in dataset if d['total_votes'] < 3 or d['helpful_votes']/d['total_votes'] >= 0.5]"
   ]
  },
  {
   "cell_type": "markdown",
   "id": "d4dc5d66-a8ae-486d-9d3e-8ad37d9d388a",
   "metadata": {},
   "source": [
    "Next, let's filter our dataset to discard inactive users (in this case users who have written only a single review in this category)"
   ]
  },
  {
   "cell_type": "code",
   "execution_count": 18,
   "id": "4968b058-0258-4419-ace7-0d2bafcc8d03",
   "metadata": {},
   "outputs": [],
   "source": [
    "from collections import defaultdict\n",
    "nReviewsPerUser = defaultdict(int)"
   ]
  },
  {
   "cell_type": "code",
   "execution_count": 20,
   "id": "ba59d253-afc8-431c-ae35-d9e20c4cb5fc",
   "metadata": {},
   "outputs": [],
   "source": [
    "for d in dataset:\n",
    "    nReviewsPerUser[d['customer_id']] += 1"
   ]
  },
  {
   "cell_type": "markdown",
   "id": "432ca1a3-1752-4322-b6a5-6b9a58e514e6",
   "metadata": {},
   "source": [
    "Then we can filter to keep only users with 2 or more reviews:"
   ]
  },
  {
   "cell_type": "code",
   "execution_count": 22,
   "id": "5fe3923d-2530-4a0a-8669-bcfaea9f282e",
   "metadata": {},
   "outputs": [],
   "source": [
    "dataset = [d for d in dataset if nReviewsPerUser[d['customer_id']] >= 2]"
   ]
  },
  {
   "cell_type": "code",
   "execution_count": 24,
   "id": "2f397e53-10a2-4d38-8de8-e685a7ba500e",
   "metadata": {},
   "outputs": [
    {
     "data": {
      "text/plain": [
       "11172"
      ]
     },
     "execution_count": 24,
     "metadata": {},
     "output_type": "execute_result"
    }
   ],
   "source": [
    "len(dataset)"
   ]
  },
  {
   "cell_type": "markdown",
   "id": "8f1f6896-d547-480a-9034-d5c83bc47a09",
   "metadata": {},
   "source": [
    "Finally, let's filter very short reviews, which may be uninformative"
   ]
  },
  {
   "cell_type": "code",
   "execution_count": 25,
   "id": "ecc46462-9c12-495a-9a28-995f7489a0af",
   "metadata": {},
   "outputs": [],
   "source": [
    "dataset = [d for d in dataset if len(d['review_body'].split()) >= 10]"
   ]
  },
  {
   "cell_type": "code",
   "execution_count": 26,
   "id": "0c4beb7b-a850-4de1-814f-2ebf1cb2c895",
   "metadata": {},
   "outputs": [
    {
     "data": {
      "text/plain": [
       "7033"
      ]
     },
     "execution_count": 26,
     "metadata": {},
     "output_type": "execute_result"
    }
   ],
   "source": [
    "len(dataset)"
   ]
  },
  {
   "cell_type": "markdown",
   "id": "129d8360-20b3-4f9f-b710-26111b65670f",
   "metadata": {},
   "source": [
    "## Processing Text and Strings\n",
    "\n",
    "In this section we will...  \n",
    "\n",
    "* Perform simple manipulations of string data in python\n",
    "* Discover a few useful library function for strin processing\n",
    "\n",
    "First let's read in a review from the Yelp dataset:\n"
   ]
  },
  {
   "cell_type": "code",
   "execution_count": 27,
   "id": "331d2928-36fd-4498-8d09-4454da4b7af3",
   "metadata": {},
   "outputs": [],
   "source": [
    "import json\n",
    "import string\n",
    "\n",
    "path = \"../datasets/yelp_dataset/review.json\"\n",
    "f = open(path)"
   ]
  },
  {
   "cell_type": "code",
   "execution_count": 45,
   "id": "8b4aa11f-7b96-4df7-b5b0-58605ee50569",
   "metadata": {},
   "outputs": [],
   "source": [
    "d = json.loads(f.readline())"
   ]
  },
  {
   "cell_type": "code",
   "execution_count": 46,
   "id": "a54789c1-1c5f-4920-9caa-c8c4d7fcbb9d",
   "metadata": {},
   "outputs": [
    {
     "data": {
      "text/plain": [
       "'{\"review_id\":\"J4a2TuhDasjn2k3wWtHZnQ\",\"user_id\":\"RNm_RWkcd02Li2mKPRe7Eg\",\"business_id\":\"xGXzsc-hzam-VArK6eTvtw\",\"stars\":1.0,\"useful\":2,\"funny\":0,\"cool\":0,\"text\":\"This place used to be a cool, chill place. Now its a bunch of neanderthal bouncers hopped up on steroids acting like the can do whatever they want. There are so many better places in davis square where they are glad you are visiting their business. Sad that the burren is now the worst place in davis.\",\"date\":\"2018-01-21 04:41:03\"}\\n'"
      ]
     },
     "execution_count": 46,
     "metadata": {},
     "output_type": "execute_result"
    }
   ],
   "source": [
    "next(f)"
   ]
  },
  {
   "cell_type": "code",
   "execution_count": 49,
   "id": "8aa9a415-7d64-4a8c-8610-214abf5c252a",
   "metadata": {},
   "outputs": [],
   "source": [
    "review = d['text']"
   ]
  },
  {
   "cell_type": "code",
   "execution_count": 50,
   "id": "94beac8d-0f16-44f2-8d17-20dd3d7dad34",
   "metadata": {},
   "outputs": [
    {
     "data": {
      "text/plain": [
       "\"The food is always great here. The service from both the manager as well as the staff is super. Only draw back of this restaurant is it's super loud. If you can, snag a patio table!\""
      ]
     },
     "execution_count": 50,
     "metadata": {},
     "output_type": "execute_result"
    }
   ],
   "source": [
    "review"
   ]
  },
  {
   "cell_type": "markdown",
   "id": "d30cc7fb-2fd1-4725-99be-b148d896c931",
   "metadata": {},
   "source": [
    "Let's covert strings to a list of words"
   ]
  },
  {
   "cell_type": "code",
   "execution_count": 51,
   "id": "2e0de2ba-e386-4c2a-b57b-e6618e25564e",
   "metadata": {},
   "outputs": [],
   "source": [
    "reviewWords = review.split()"
   ]
  },
  {
   "cell_type": "code",
   "execution_count": 52,
   "id": "06a509c9-ff74-443b-98b8-ddcbdc8d04f9",
   "metadata": {},
   "outputs": [
    {
     "data": {
      "text/plain": [
       "['The',\n",
       " 'food',\n",
       " 'is',\n",
       " 'always',\n",
       " 'great',\n",
       " 'here.',\n",
       " 'The',\n",
       " 'service',\n",
       " 'from',\n",
       " 'both',\n",
       " 'the',\n",
       " 'manager',\n",
       " 'as',\n",
       " 'well',\n",
       " 'as',\n",
       " 'the',\n",
       " 'staff',\n",
       " 'is',\n",
       " 'super.',\n",
       " 'Only',\n",
       " 'draw',\n",
       " 'back',\n",
       " 'of',\n",
       " 'this',\n",
       " 'restaurant',\n",
       " 'is',\n",
       " \"it's\",\n",
       " 'super',\n",
       " 'loud.',\n",
       " 'If',\n",
       " 'you',\n",
       " 'can,',\n",
       " 'snag',\n",
       " 'a',\n",
       " 'patio',\n",
       " 'table!']"
      ]
     },
     "execution_count": 52,
     "metadata": {},
     "output_type": "execute_result"
    }
   ],
   "source": [
    "reviewWords"
   ]
  },
  {
   "cell_type": "code",
   "execution_count": 53,
   "id": "c55b24d4-c5c8-491c-9bf6-b65a1f320021",
   "metadata": {},
   "outputs": [
    {
     "data": {
      "text/plain": [
       "\"The food is always great here. The service from both the manager as well as the staff is super. Only draw back of this restaurant is it's super loud. If you can, snag a patio table!\""
      ]
     },
     "execution_count": 53,
     "metadata": {},
     "output_type": "execute_result"
    }
   ],
   "source": [
    "' '.join(reviewWords)"
   ]
  }
 ],
 "metadata": {
  "kernelspec": {
   "display_name": "Python 3",
   "language": "python",
   "name": "python3"
  },
  "language_info": {
   "codemirror_mode": {
    "name": "ipython",
    "version": 3
   },
   "file_extension": ".py",
   "mimetype": "text/x-python",
   "name": "python",
   "nbconvert_exporter": "python",
   "pygments_lexer": "ipython3",
   "version": "3.6.13"
  }
 },
 "nbformat": 4,
 "nbformat_minor": 5
}
