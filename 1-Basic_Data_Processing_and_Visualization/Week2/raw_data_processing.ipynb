{
 "cells": [
  {
   "cell_type": "markdown",
   "id": "999f761d-e0db-4cb5-9cad-fc580e5897db",
   "metadata": {},
   "source": [
    "# Intro to Python Data Processing \n",
    "\n",
    "In this notebook, we're going to see how we read texts in form of JSON and CSV files into Python objects and what do we actually do once we've opened the files? We also introduce some new usefull libraries.\n",
    "In this step we transform the raw data to structured data (or derived data)."
   ]
  },
  {
   "cell_type": "code",
   "execution_count": 1,
   "id": "16fc7e2b-b93d-44c7-b134-9ab1f7a461b7",
   "metadata": {},
   "outputs": [],
   "source": [
    "# Disable jedi autocompleter\n",
    "%config Completer.use_jedi = False"
   ]
  },
  {
   "cell_type": "markdown",
   "id": "9aa2e9a7-4415-46b9-8365-8b46443be49c",
   "metadata": {},
   "source": [
    "## String.split()"
   ]
  },
  {
   "cell_type": "code",
   "execution_count": 2,
   "id": "29d9d671-080f-4195-bc66-c10f7c454bf8",
   "metadata": {},
   "outputs": [
    {
     "data": {
      "text/plain": [
       "['marketplace', 'customer_id', 'review_id', 'product_id', 'product_parent']"
      ]
     },
     "execution_count": 2,
     "metadata": {},
     "output_type": "execute_result"
    }
   ],
   "source": [
    "x = \"marketplace customer_id review_id product_id product_parent\"\n",
    "x.split()"
   ]
  },
  {
   "cell_type": "code",
   "execution_count": 3,
   "id": "f271db88-fdc8-4a82-b736-1add88b3c08d",
   "metadata": {},
   "outputs": [
    {
     "data": {
      "text/plain": [
       "['marketplace', ' customer_id review_id product_id product_parent']"
      ]
     },
     "execution_count": 3,
     "metadata": {},
     "output_type": "execute_result"
    }
   ],
   "source": [
    "x = \"marketplace; customer_id review_id product_id product_parent\"\n",
    "x.split(';')"
   ]
  },
  {
   "cell_type": "markdown",
   "id": "3b38431f-0810-4ee3-a145-30db10cfc9af",
   "metadata": {},
   "source": [
    "## eval()"
   ]
  },
  {
   "cell_type": "code",
   "execution_count": 4,
   "id": "942474f6-8c24-4d68-b384-ff80e1163e8a",
   "metadata": {},
   "outputs": [],
   "source": [
    "import ast\n",
    "path = \"../datasets/example.json\"\n",
    "f = open(path)"
   ]
  },
  {
   "cell_type": "code",
   "execution_count": 5,
   "id": "0e3fc1ed-bc90-43db-85b4-491c3488db06",
   "metadata": {},
   "outputs": [
    {
     "data": {
      "text/plain": [
       "'{\"_id\":\"5c1a010ae61b49b43c4b4864\",\"index\":0,\"age\":35,\"eyeColor\":\"green\",\"name\":\"Wiggins Holman\",\"address\":\"247 Thatford Avenue, Oneida,Puerto Rico, 7233\",\"friends\":[{\"id\":0,\"name\":\"Carmela Hampton\"},{\"id\":1,\"name\":\"Lynda Pittman\"},{\"id\":2,\"name\":\"Cleveland Noble\"}]}\\n'"
      ]
     },
     "execution_count": 5,
     "metadata": {},
     "output_type": "execute_result"
    }
   ],
   "source": [
    "line = f.readline()\n",
    "line"
   ]
  },
  {
   "cell_type": "code",
   "execution_count": 6,
   "id": "116492ce-9126-4c4c-a1ea-a457ab34d7e5",
   "metadata": {},
   "outputs": [
    {
     "data": {
      "text/plain": [
       "{'_id': '5c1a010ae61b49b43c4b4864',\n",
       " 'index': 0,\n",
       " 'age': 35,\n",
       " 'eyeColor': 'green',\n",
       " 'name': 'Wiggins Holman',\n",
       " 'address': '247 Thatford Avenue, Oneida,Puerto Rico, 7233',\n",
       " 'friends': [{'id': 0, 'name': 'Carmela Hampton'},\n",
       "  {'id': 1, 'name': 'Lynda Pittman'},\n",
       "  {'id': 2, 'name': 'Cleveland Noble'}]}"
      ]
     },
     "execution_count": 6,
     "metadata": {},
     "output_type": "execute_result"
    }
   ],
   "source": [
    "# To read the lines as a json object, we could use the eval method\n",
    "d = eval(line)\n",
    "d"
   ]
  },
  {
   "cell_type": "code",
   "execution_count": 7,
   "id": "2a1fed08-43af-4ac7-b101-2cee391d3889",
   "metadata": {},
   "outputs": [
    {
     "data": {
      "text/plain": [
       "'5c1a010ae61b49b43c4b4864'"
      ]
     },
     "execution_count": 7,
     "metadata": {},
     "output_type": "execute_result"
    }
   ],
   "source": [
    "d['_id']"
   ]
  },
  {
   "cell_type": "code",
   "execution_count": 8,
   "id": "b9c0d09a-9247-4200-972e-349e6280d616",
   "metadata": {},
   "outputs": [
    {
     "name": "stdout",
     "output_type": "stream",
     "text": [
      "8\n"
     ]
    }
   ],
   "source": [
    "# however we need to be careful when using eval(), \n",
    "# since it treats arbitrary strings as a bit of python code\n",
    "eval(\"print(2+6)\")"
   ]
  },
  {
   "cell_type": "code",
   "execution_count": 9,
   "id": "a6870dbf-d729-452e-b50e-37e10c7536a2",
   "metadata": {},
   "outputs": [
    {
     "data": {
      "text/plain": [
       "{'_id': '5c1a010ae61b49b43c4b4864',\n",
       " 'index': 0,\n",
       " 'age': 35,\n",
       " 'eyeColor': 'green',\n",
       " 'name': 'Wiggins Holman',\n",
       " 'address': '247 Thatford Avenue, Oneida,Puerto Rico, 7233',\n",
       " 'friends': [{'id': 0, 'name': 'Carmela Hampton'},\n",
       "  {'id': 1, 'name': 'Lynda Pittman'},\n",
       "  {'id': 2, 'name': 'Cleveland Noble'}]}"
      ]
     },
     "execution_count": 9,
     "metadata": {},
     "output_type": "execute_result"
    }
   ],
   "source": [
    "# To prevent this undesired behaviour from happening we should use ast or json library\n",
    "# The input must be however a json object \n",
    "ast.literal_eval(line)"
   ]
  },
  {
   "cell_type": "code",
   "execution_count": 10,
   "id": "eaf19c93-e696-4e45-bce6-ce7a4785382c",
   "metadata": {},
   "outputs": [
    {
     "data": {
      "text/plain": [
       "{'_id': '5c1a010ae61b49b43c4b4864',\n",
       " 'index': 0,\n",
       " 'age': 35,\n",
       " 'eyeColor': 'green',\n",
       " 'name': 'Wiggins Holman',\n",
       " 'address': '247 Thatford Avenue, Oneida,Puerto Rico, 7233',\n",
       " 'friends': [{'id': 0, 'name': 'Carmela Hampton'},\n",
       "  {'id': 1, 'name': 'Lynda Pittman'},\n",
       "  {'id': 2, 'name': 'Cleveland Noble'}]}"
      ]
     },
     "execution_count": 10,
     "metadata": {},
     "output_type": "execute_result"
    }
   ],
   "source": [
    "# We could also use the json library\n",
    "import json\n",
    "json.loads(line)"
   ]
  },
  {
   "cell_type": "markdown",
   "id": "9495c160-a0e2-48ac-91da-35b8f91cc70d",
   "metadata": {},
   "source": [
    "## Dealing with Large Files\n",
    "\n",
    "### Gzip\n",
    "\n",
    "Often we'll be dealing with very large datasets, and only few of the data is relevant to us. With gzip we can work directly with the compressed data in the native gziped format without having to tax the hard drive."
   ]
  },
  {
   "cell_type": "code",
   "execution_count": 11,
   "id": "03c6e54b-1cf7-4b09-9f5b-45055f584dd3",
   "metadata": {},
   "outputs": [],
   "source": [
    "import gzip\n",
    "import csv"
   ]
  },
  {
   "cell_type": "code",
   "execution_count": 12,
   "id": "79262278-d2c1-49cb-85cf-0c2222e6f536",
   "metadata": {},
   "outputs": [],
   "source": [
    "# Unzimp the datafile\n",
    "path = \"../datasets/amazon_reviews_us_Gift_Card_v1_00.tsv.gz\"\n",
    "f = gzip.open(path, 'rt')"
   ]
  },
  {
   "cell_type": "code",
   "execution_count": 13,
   "id": "5b6e2e42-33bd-4e51-8daa-7c81550cf015",
   "metadata": {},
   "outputs": [],
   "source": [
    "# Initiate a reader object\n",
    "reader = csv.reader(f, delimiter='\\t')\n",
    "\n",
    "# read one line at a time\n",
    "# First line = header\n",
    "header = next(reader)"
   ]
  },
  {
   "cell_type": "code",
   "execution_count": 14,
   "id": "82bdfbc9-923d-4f9a-bcfa-27fbcff56374",
   "metadata": {},
   "outputs": [
    {
     "data": {
      "text/plain": [
       "['marketplace',\n",
       " 'customer_id',\n",
       " 'review_id',\n",
       " 'product_id',\n",
       " 'product_parent',\n",
       " 'product_title',\n",
       " 'product_category',\n",
       " 'star_rating',\n",
       " 'helpful_votes',\n",
       " 'total_votes',\n",
       " 'vine',\n",
       " 'verified_purchase',\n",
       " 'review_headline',\n",
       " 'review_body',\n",
       " 'review_date']"
      ]
     },
     "execution_count": 14,
     "metadata": {},
     "output_type": "execute_result"
    }
   ],
   "source": [
    "header"
   ]
  },
  {
   "cell_type": "markdown",
   "id": "1b2a7f7e-47db-4862-96fe-fc69a31e08a8",
   "metadata": {},
   "source": [
    "### Reading and Filtering Files Line by Line\n",
    "\n",
    "How can we read and filter out data sets line by line? So, for manipulating a very large file and we have a gzipped, it's not going to help us if we then try to read the entire file into memory all in one go, because we're just going to run out of memory. So, the next concept we would like to introduce is to say, \"How can we construct a data structure containing some reduced subset of the file that we'd really like to work with?\" So, perhaps, in the case of our Amazon dataset, we'd like to build a subset that ignores the text fields in that dataset, because we'd just like to do some operations on the rating, or the vote, or the user data. That's what we'll do in this example."
   ]
  },
  {
   "cell_type": "code",
   "execution_count": 15,
   "id": "528e3d0b-d1be-4a2d-856c-333284ff6931",
   "metadata": {},
   "outputs": [],
   "source": [
    "dataset = []"
   ]
  },
  {
   "cell_type": "code",
   "execution_count": 16,
   "id": "0d602306-f150-4a5c-9010-cdbd4ec643f3",
   "metadata": {},
   "outputs": [],
   "source": [
    "for line in reader:\n",
    "    line = line[:-3] # drop the last 3 entries of each line\n",
    "    if line[-1] == 'Y': # discard unverified reviews\n",
    "        dataset.append(line)"
   ]
  },
  {
   "cell_type": "code",
   "execution_count": 17,
   "id": "ad39c6dd-e635-46e4-8436-75765a3d51d0",
   "metadata": {},
   "outputs": [
    {
     "data": {
      "text/plain": [
       "['US',\n",
       " '3559726',\n",
       " 'R6JH7A117FHFA',\n",
       " 'B004LLIKVU',\n",
       " '473048287',\n",
       " 'Amazon.com eGift Cards',\n",
       " 'Gift Card',\n",
       " '5',\n",
       " '0',\n",
       " '0',\n",
       " 'N',\n",
       " 'Y']"
      ]
     },
     "execution_count": 17,
     "metadata": {},
     "output_type": "execute_result"
    }
   ],
   "source": [
    "dataset[10]"
   ]
  },
  {
   "cell_type": "code",
   "execution_count": 18,
   "id": "49420127-8507-4d9c-9140-aa97e219b8b0",
   "metadata": {},
   "outputs": [
    {
     "data": {
      "text/plain": [
       "'Amazon.com Gift Card Balance Reload'"
      ]
     },
     "execution_count": 18,
     "metadata": {},
     "output_type": "execute_result"
    }
   ],
   "source": [
    "dataset[3][5]"
   ]
  },
  {
   "cell_type": "markdown",
   "id": "d1ab27d2-e2e1-40f2-92db-802546108f16",
   "metadata": {},
   "source": []
  },
  {
   "cell_type": "code",
   "execution_count": 19,
   "id": "2273a1ad-7bca-4835-afe1-f128bca8f3e5",
   "metadata": {},
   "outputs": [
    {
     "data": {
      "text/plain": [
       "['marketplace',\n",
       " 'customer_id',\n",
       " 'review_id',\n",
       " 'product_id',\n",
       " 'product_parent',\n",
       " 'product_title',\n",
       " 'product_category',\n",
       " 'star_rating',\n",
       " 'helpful_votes',\n",
       " 'total_votes',\n",
       " 'vine',\n",
       " 'verified_purchase',\n",
       " 'review_headline',\n",
       " 'review_body',\n",
       " 'review_date']"
      ]
     },
     "execution_count": 19,
     "metadata": {},
     "output_type": "execute_result"
    }
   ],
   "source": [
    "header"
   ]
  },
  {
   "cell_type": "code",
   "execution_count": 20,
   "id": "4722cf35-1e09-453f-95ce-0d73c65e7b30",
   "metadata": {},
   "outputs": [],
   "source": [
    "# Change stream position to 0\n",
    "f.seek(0)\n",
    "# First line as header - as above\n",
    "header = next(reader)\n",
    "\n",
    "dataset = []\n",
    "for line in reader:\n",
    "    d = dict(zip(header, line))\n",
    "    # convert string to int\n",
    "    for field in ['helpful_votes', 'star_rating', 'total_votes']:\n",
    "        d[field] = int(d[field])\n",
    "    # convert string to boolean\n",
    "    for field in ['verified_purchase', 'vine']:\n",
    "        if d[field] == \"Y\":\n",
    "            d[field] = True\n",
    "        else:\n",
    "            d[field] = False\n",
    "    dataset.append(d)"
   ]
  },
  {
   "cell_type": "code",
   "execution_count": 21,
   "id": "3c6dd25d-27bc-4bd4-8cba-f6f3995a7b8c",
   "metadata": {},
   "outputs": [
    {
     "data": {
      "text/plain": [
       "{'marketplace': 'US',\n",
       " 'customer_id': '397970',\n",
       " 'review_id': 'RNYLPX611NB7Q',\n",
       " 'product_id': 'B005ESMGV4',\n",
       " 'product_parent': '379368939',\n",
       " 'product_title': 'Amazon.com Gift Cards, Pack of 3 (Various Designs)',\n",
       " 'product_category': 'Gift Card',\n",
       " 'star_rating': 5,\n",
       " 'helpful_votes': 0,\n",
       " 'total_votes': 0,\n",
       " 'vine': False,\n",
       " 'verified_purchase': True,\n",
       " 'review_headline': 'Five Stars',\n",
       " 'review_body': \"I can't believe how quickly Amazon can get these into my hands!!  Thank you!\",\n",
       " 'review_date': '2015-08-31'}"
      ]
     },
     "execution_count": 21,
     "metadata": {},
     "output_type": "execute_result"
    }
   ],
   "source": [
    "dataset[4]"
   ]
  },
  {
   "cell_type": "markdown",
   "id": "dec87ef4-ddfe-4f58-b748-16899572c882",
   "metadata": {},
   "source": [
    "## Summary Statistics"
   ]
  },
  {
   "cell_type": "markdown",
   "id": "29dfa2d3-00c1-4e9b-96d2-ef69e903bbe5",
   "metadata": {},
   "source": [
    "### Average rating"
   ]
  },
  {
   "cell_type": "code",
   "execution_count": 25,
   "id": "ccab2bc6-9705-4f8d-a529-8a3a2857a403",
   "metadata": {},
   "outputs": [
    {
     "data": {
      "text/plain": [
       "4.731333018677096"
      ]
     },
     "execution_count": 25,
     "metadata": {},
     "output_type": "execute_result"
    }
   ],
   "source": [
    "ratings = [d['star_rating'] for d in dataset]\n",
    "sum(ratings) / len(ratings)"
   ]
  },
  {
   "cell_type": "markdown",
   "id": "4860b874-85ab-4217-9efe-2c74086981db",
   "metadata": {},
   "source": [
    "### Rating Score Distribution\n"
   ]
  },
  {
   "cell_type": "code",
   "execution_count": 26,
   "id": "6c6302b2-6325-4b04-8fad-0a6ecad9dea0",
   "metadata": {},
   "outputs": [],
   "source": [
    "ratingCounts = {1: 0, 2: 0, 3: 0, 4: 0, 5: 0}\n",
    "for d in dataset:\n",
    "    ratingCounts[d['star_rating']] += 1"
   ]
  },
  {
   "cell_type": "code",
   "execution_count": 27,
   "id": "db3f4353-9bd7-4d72-8fed-d630aea81b6c",
   "metadata": {},
   "outputs": [
    {
     "data": {
      "text/plain": [
       "{1: 4766, 2: 1560, 3: 3147, 4: 9808, 5: 129029}"
      ]
     },
     "execution_count": 27,
     "metadata": {},
     "output_type": "execute_result"
    }
   ],
   "source": [
    "ratingCounts"
   ]
  },
  {
   "cell_type": "code",
   "execution_count": 34,
   "id": "d371d4fe-8d3a-4541-9581-ea615b7d107b",
   "metadata": {},
   "outputs": [
    {
     "data": {
      "text/plain": [
       "defaultdict(int, {5: 129029, 1: 4766, 4: 9808, 2: 1560, 3: 3147})"
      ]
     },
     "execution_count": 34,
     "metadata": {},
     "output_type": "execute_result"
    }
   ],
   "source": [
    "# rating score distribution using the defaultdict function\n",
    "from collections import defaultdict\n",
    "\n",
    "# delete ratingCounts\n",
    "del ratingCounts\n",
    "\n",
    "# With defaultdict no need to define the keys upfront\n",
    "# Which is very handy for long key lists. \n",
    "# With the star rating count it was ok to define the keys upfront\n",
    "# and set the value to zeros. However, when we have much more keys\n",
    "# such as product id's, it is not possible to set all the keys upfront.\n",
    "ratingCounts = defaultdict(int)\n",
    "for d in dataset:\n",
    "    ratingCounts[d['star_rating']] += 1\n",
    "\n",
    "ratingCounts"
   ]
  },
  {
   "cell_type": "markdown",
   "id": "da942ea7-9c45-422f-ac5b-65619fc8f27b",
   "metadata": {},
   "source": [
    "### Verified Purchases"
   ]
  },
  {
   "cell_type": "code",
   "execution_count": 32,
   "id": "93f2e2ff-a8b5-49a0-b59a-4c2f0de618a3",
   "metadata": {},
   "outputs": [
    {
     "data": {
      "text/plain": [
       "defaultdict(int, {True: 135289, False: 13021})"
      ]
     },
     "execution_count": 32,
     "metadata": {},
     "output_type": "execute_result"
    }
   ],
   "source": [
    "verifiedCounts = defaultdict(int)\n",
    "for d in dataset:\n",
    "    verifiedCounts[d['verified_purchase']] += 1\n",
    "verifiedCounts"
   ]
  },
  {
   "cell_type": "markdown",
   "id": "482bbfb5-88bf-489f-9f62-31bd3b2a1502",
   "metadata": {},
   "source": [
    "### Most Popular Products"
   ]
  },
  {
   "cell_type": "code",
   "execution_count": 35,
   "id": "d2106d08-3016-4c49-b808-325f6881d542",
   "metadata": {},
   "outputs": [],
   "source": [
    "productCounts = defaultdict(int)\n",
    "for d in dataset:\n",
    "    productCounts[d['product_id']] += 1"
   ]
  },
  {
   "cell_type": "code",
   "execution_count": 43,
   "id": "362d7102-d403-4654-a07e-aa7ca94f29f5",
   "metadata": {},
   "outputs": [],
   "source": [
    "# converting productCounts to a list of tuples:\n",
    "list = [(productCounts[p], p) for p in productCounts]\n",
    "list.sort(reverse=True)"
   ]
  },
  {
   "cell_type": "code",
   "execution_count": 45,
   "id": "ce68249d-0602-4e16-85ef-900f8301a93b",
   "metadata": {},
   "outputs": [
    {
     "data": {
      "text/plain": [
       "[(28705, 'B004LLIKVU'),\n",
       " (6037, 'B00A48G0D4'),\n",
       " (5034, 'BT00DDVMVQ'),\n",
       " (4283, 'B00IX1I3G6'),\n",
       " (3440, 'BT00CTOUNS'),\n",
       " (3407, 'BT00DDC7BK'),\n",
       " (2643, 'B004LLIKY2'),\n",
       " (2630, 'BT00DDC7CE'),\n",
       " (2173, 'B0066AZGD4'),\n",
       " (2038, 'B004KNWWO0')]"
      ]
     },
     "execution_count": 45,
     "metadata": {},
     "output_type": "execute_result"
    }
   ],
   "source": [
    "# displey the 10 most popular products\n",
    "list[:10]"
   ]
  },
  {
   "cell_type": "markdown",
   "id": "6f87a599-47ed-4794-bc1e-8aa19abb1a02",
   "metadata": {},
   "source": []
  }
 ],
 "metadata": {
  "kernelspec": {
   "display_name": "Python 3",
   "language": "python",
   "name": "python3"
  },
  "language_info": {
   "codemirror_mode": {
    "name": "ipython",
    "version": 3
   },
   "file_extension": ".py",
   "mimetype": "text/x-python",
   "name": "python",
   "nbconvert_exporter": "python",
   "pygments_lexer": "ipython3",
   "version": "3.6.13"
  }
 },
 "nbformat": 4,
 "nbformat_minor": 5
}
